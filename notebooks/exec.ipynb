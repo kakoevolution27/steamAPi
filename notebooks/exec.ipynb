{
 "cells": [
  {
   "cell_type": "code",
   "execution_count": null,
   "metadata": {},
   "outputs": [],
   "source": [
    "import requests\n",
    "\n",
    "class APIClient:\n",
    "    #Cliente genérico para requisições a APIs\n",
    "    def __init__(self,base_url,headers=None,auth_key=None,secret=None):\n",
    "        self.base_url = base_url\n",
    "        self.headers = headers or {}\n",
    "        self.auth_key = auth_key\n",
    "        self.secret = secret\n",
    "\n",
    "    def get(self, endpoint,params=None):\n",
    "        response = requests.get(f'{self.base_url}{endpoint}', params=params,headers=self.headers)\n",
    "        response.raise_for_status()\n",
    "        return response.json()\n",
    "    \n",
    "    def post(self, endpoint, data=None):\n",
    "        response = requests.post(f\"{self.base_url}{endpoint}\", json=data,headers=self.headers)\n",
    "        response.raise_for_status()\n",
    "        return response.json()\n",
    "    \n",
    "class SteamStoreAPI(APIClient):\n",
    "    #Cliente especializado para consumir a API steam\n",
    "    def __init__(self):\n",
    "        super().__init__(\"https://store.steampowered.com/\")\n",
    "\n",
    "    def get_game_details(self, app_id:int):\n",
    "        return self.get(f\"api/appdetails?appids={app_id}\")\n",
    "    \n",
    "    def get_game_reviews(self, app_id:int,language:str,num_per_pages:int):\n",
    "        return self.get(f\"appreviews/{app_id}?json=1&language={language}&num_per_page={num_per_pages}\")\n",
    "    \n",
    "\n",
    "class SteamApi(APIClient):\n",
    "    def __init__(self):\n",
    "        super().__init__(\"https://api.steampowered.com/\")\n",
    "\n",
    "    def get_game_active_player(self, app_id:int):\n",
    "        return self.get(f\"ISteamUserStats/GetNumberOfCurrentPlayers/v1/?appid={app_id}\")\n",
    "    \n",
    "    def get_app_id(self):\n",
    "        return self.get(\"ISteamApps/GetAppList/v2/\")"
   ]
  },
  {
   "cell_type": "code",
   "execution_count": null,
   "metadata": {},
   "outputs": [],
   "source": [
    "\n",
    "import pandas as pd\n",
    "import json\n",
    "\n",
    "StmAPi = SteamApi()\n",
    "\n",
    "\n",
    "game_names = StmAPi.get_app_id() \n",
    "\n",
    "\n",
    "game_names_json = json.dumps(game_names, indent=4, ensure_ascii=False) \n",
    "\n",
    "with open(\"game_names.json\", \"w\", encoding=\"utf-8\") as f:\n",
    "    json.dump(game_names, f, indent=4, ensure_ascii=False)\n"
   ]
  }
 ],
 "metadata": {
  "kernelspec": {
   "display_name": "venv",
   "language": "python",
   "name": "python3"
  },
  "language_info": {
   "name": "python",
   "version": "3.13.2"
  }
 },
 "nbformat": 4,
 "nbformat_minor": 2
}
